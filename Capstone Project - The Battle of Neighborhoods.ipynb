{
 "cells": [
  {
   "cell_type": "markdown",
   "metadata": {},
   "source": [
    "<h1>Capstone Project - The Battle of Neighborhoods</h1>\n",
    "<hr>"
   ]
  },
  {
   "cell_type": "markdown",
   "metadata": {},
   "source": [
    "<h3>1. Introduction - Bussiness Problem</h3><hr>\n",
    "In Latin America some times the difficulties to find a good job or a job that pays enough to sustain a family properly is a big issue, for that reason many people use to migrate to the United States, regularly one single member is the one who looks to establish there and help their family. One common situation with this change of culture is the food, many of them look for places to eat the food they use to eat in their hometowns and that's not always easy to find.\n",
    "\n",
    "This project has the goal to analyze Cincinnati, Ohio venues to establish which could be the best neighborhood to open a Latin American restaurant. To accomplish this objective we are going to analyze the status of each neighborhood regarding restaurants and Latin American restaurants, this will be made using the Foursquare API, to analyze the Cincinnati venues.\n",
    "\n",
    "This project is aimed at entrepreneurs that are looking for opportunities to establish a new business in the food sector, so the result of this analysis will be data that helps them to choose the better option to start a new business."
   ]
  },
  {
   "attachments": {},
   "cell_type": "markdown",
   "metadata": {},
   "source": [
    "<h3>2. Data</h3><hr>\n",
    "The data required for this project will be obtained from different sources, which are listed below:\n",
    "<h4>2.1 List of neighborhoods in Cincinatti</h4> \n",
    "<p>This data will be extracted from <a href=\"https://en.wikipedia.org/wiki/List_of_Cincinnati_neighborhoods\" _\"blank\">Wikipedia</a>. From this list, we are going to use only the main neighborhoods, and discard the subclassification listed on that page. To get this data we are going to use BeautifulSoup to do the web scraping. An example of the data is listed next:<br><img src=\"https://www.dropbox.com/s/5g55da5sfd9hxla/Screen%20Shot%202021-02-02%20at%2022.53.35.png?raw=1\"><br></p>\n",
    "<h4>2.2 Latitude and Longitude of each neighborhood</h4>\n",
    "<p>LocationIQ API to obtain the latitude and longitude of each neighborhood. This API is used as an alternative to the Google API. To get the data this API needs the name of the place to get the coordinates, in this case, will be the name of the neighborhood obtained in step 1. An example of a response from LocationIQ where we will extract the neighborhood coordinates is shown in the next image:<br><img src=\"https://www.dropbox.com/s/hjycgfv2mzhnsdk/Screen%20Shot%202021-02-02%20at%2023.01.04.png?raw=1\"><br>With these data we are going to create a dataframe like the next:<br><img src=\"https://www.dropbox.com/s/2v5h3t8fvcpendh/Screen%20Shot%202021-02-02%20at%2023.06.24.png?raw=1\"><br></p>\n",
    "<h4>2.3 List of Venues</h4>\n",
    "<p>Foursquare API to obtain the list of venues in each neighborhood. To get the list of venues in each neighborhood we are going to use the coordinates obtained from the LocationIQ API. With this data we are going to look for Latin American restaurants in the venues list and assign them to each neighborhood, to execute the analysis that we want to do. The list of venues will look like the next image:<br><img src=\"https://www.dropbox.com/s/2waggjxz6mpp0vf/Screen%20Shot%202021-02-02%20at%2023.09.05.png?raw=1\"></p>"
   ]
  }
 ],
 "metadata": {
  "kernelspec": {
   "display_name": "Python 3",
   "language": "python",
   "name": "python3"
  },
  "language_info": {
   "codemirror_mode": {
    "name": "ipython",
    "version": 3
   },
   "file_extension": ".py",
   "mimetype": "text/x-python",
   "name": "python",
   "nbconvert_exporter": "python",
   "pygments_lexer": "ipython3",
   "version": "3.8.3"
  }
 },
 "nbformat": 4,
 "nbformat_minor": 4
}
